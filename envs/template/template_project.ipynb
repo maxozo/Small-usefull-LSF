{
 "cells": [
  {
   "cell_type": "code",
   "execution_count": 1,
   "metadata": {},
   "outputs": [],
   "source": [
    "# pre-main imports: \n",
    "import os\n",
    "import itertools\n",
    "import functools\n",
    "import logging\n",
    "import pipeop\n",
    "from logdecorator import log_on_start, log_on_end, log_on_error, log_exception\n",
    "import wrapt\n",
    "from fabric import Connection\n",
    "from tqdm.notebook import tqdm #from tqdm import tqdm if not in notebook"
   ]
  },
  {
   "cell_type": "code",
   "execution_count": 2,
   "metadata": {},
   "outputs": [],
   "source": [
    "# main-imports: custom decorators and functions\n",
    "import shared_variables\n",
    "shared_variables.enabled_wrapt_decorators = True # apply or not custom core decorators\n",
    "from core_decorators import *\n",
    "from core_functions import *"
   ]
  },
  {
   "cell_type": "code",
   "execution_count": 3,
   "metadata": {},
   "outputs": [],
   "source": [
    "import integration_curator"
   ]
  },
  {
   "cell_type": "markdown",
   "metadata": {},
   "source": [
    "### project specific code"
   ]
  },
  {
   "cell_type": "code",
   "execution_count": null,
   "metadata": {},
   "outputs": [],
   "source": []
  },
  {
   "cell_type": "code",
   "execution_count": 4,
   "metadata": {},
   "outputs": [
    {
     "data": {
      "text/plain": [
       "<function core_functions.subset_generator(a_generator)>"
      ]
     },
     "execution_count": 4,
     "metadata": {},
     "output_type": "execute_result"
    }
   ],
   "source": [
    "subset_generator"
   ]
  },
  {
   "cell_type": "markdown",
   "metadata": {},
   "source": [
    "### git save notebook"
   ]
  },
  {
   "cell_type": "code",
   "execution_count": null,
   "metadata": {},
   "outputs": [],
   "source": [
    "# upload notebook to gitlab/github:\n",
    "\n",
    "to_save = '*.ipynb *.py'\n",
    "#current_dir=os.getcwd()\n",
    "git_save_dir=os.getcwd()\n",
    "\n",
    "c = Connection('mercury@hgi-farm5')\n",
    "with c.cd(git_save_dir):\n",
    "    # github repo requires using the correct deploy key:\n",
    "    c.run('git config remote.origin.url git@gn5.githostname_github_bsub_jupyter_lab:wtsi-hgi/bsub_jupyter_lab.git')\n",
    "    c.run('git config --local user.name gn5')\n",
    "    c.run('git config --local user.email gn5@sanger.ac.uk')\n",
    "    # now can pull:\n",
    "    c.run('git pull')\n",
    "    # c.run('cp ' + current_dir+'/'+nb_name + ' ' + git_save_dir+'/')\n",
    "    #c.run('ls -ltra')"
   ]
  },
  {
   "cell_type": "code",
   "execution_count": null,
   "metadata": {},
   "outputs": [],
   "source": [
    "with c.cd(git_save_dir):\n",
    "    # now can add, commit and push files:\n",
    "    c.run('git add ' + to_save)\n",
    "    c.run('git commit -m auto || true')\n",
    "    c.run('git push -u origin')"
   ]
  },
  {
   "cell_type": "markdown",
   "metadata": {},
   "source": [
    "#### how ssh key works:"
   ]
  },
  {
   "cell_type": "markdown",
   "metadata": {},
   "source": [
    "the `gn5.githostname_github_bsub_jupyter_lab` hostname serves my ssh key because:\n",
    "```\n",
    "cat /nfs/users/nfs_m/mercury/.ssh/config\n",
    "Host gn5.githostname_github_bsub_jupyter_lab # used by gn5 as deploy key for github repo wtsi-hgi/bsub_jupyter_lab\n",
    "    AddKeysToAgent yes                                                                              \n",
    "    Hostname github.com                                                                             \n",
    "    User git                                                                                        \n",
    "    IdentityFile ~/.ssh/id_rsa_gn5_github_bsub_jupyter_lab            \n",
    "...    \n",
    "```"
   ]
  },
  {
   "cell_type": "markdown",
   "metadata": {},
   "source": [
    "### install genestack/api_clients.zip lib from farm5-head1"
   ]
  },
  {
   "cell_type": "code",
   "execution_count": null,
   "metadata": {},
   "outputs": [],
   "source": [
    "c_head1 = Connection('mercury@farm5-head1')\n",
    "with c_head1.cd('/lustre/scratch118/humgen/resources/conda_envs/nextflow20_libs'): # ssh to farm5-head1 with fabric Connection()\n",
    "    #c_head1.run('ls -ltra')\n",
    "    c_head1.run('hostname')\n",
    "    with c_head1.prefix('conda activate nextflow20'): # activate conda env with fabric prefix()\n",
    "        c_head1.run('conda info --envs') # to check that correct conda env is loaded\n",
    "        c_head1.run('which pip')\n",
    "        c_head1.run('which python')\n",
    "        c_head1.run('pip --version')\n",
    "        c_head1.run('python --version')\n",
    "\n",
    "        # install genestack api_clients.zip\n",
    "        c_head1.run('cp /software/hgi/installs/genestack/api_clients.zip .')\n",
    "        c_head1.run('unzip api_clients.zip -d .') \n",
    "        c_head1.run('pip install backports.functools-lru-cache')\n",
    "        # c_head1.run('pip install genestack-client') ## only available for python 2, it's being ported to python3\n",
    "        for entry in os.scandir('/lustre/scratch118/humgen/resources/conda_envs/nextflow20_libs/python'):\n",
    "            if entry.is_dir(follow_symlinks=False):\n",
    "                print(entry.path)\n",
    "                c_head1.run('pip install -e \"' + entry.path + '\"')"
   ]
  },
  {
   "cell_type": "code",
   "execution_count": 8,
   "metadata": {},
   "outputs": [],
   "source": [
    "# check that install worked: shutdown notebook, resubmit bsub command and\n",
    "import integration_curator"
   ]
  },
  {
   "cell_type": "code",
   "execution_count": null,
   "metadata": {},
   "outputs": [],
   "source": []
  }
 ],
 "metadata": {
  "kernelspec": {
   "display_name": "Python 3",
   "language": "python",
   "name": "python3"
  },
  "language_info": {
   "codemirror_mode": {
    "name": "ipython",
    "version": 3
   },
   "file_extension": ".py",
   "mimetype": "text/x-python",
   "name": "python",
   "nbconvert_exporter": "python",
   "pygments_lexer": "ipython3",
   "version": "3.7.3"
  }
 },
 "nbformat": 4,
 "nbformat_minor": 4
}
